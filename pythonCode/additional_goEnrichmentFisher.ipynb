{
 "cells": [
  {
   "cell_type": "markdown",
   "metadata": {},
   "source": [
    "# สวัสดีครับ วันนี้เราก็จะมาทำ GO enrichment ด้วย Fisher's Exact Test กันนะครับผม"
   ]
  },
  {
   "cell_type": "markdown",
   "metadata": {},
   "source": [
    "อันนี้ก็ขอปูพื้นกันก่อนน๊าาาาาา\n",
    "\n",
    "1. Gene Ontology\n",
    "http://geneontology.org/docs/ontology-documentation/\n",
    "\n",
    "2. Fisher exact test\n",
    "http://project.astyleplus.net/lesson3_3.html\n",
    "\n",
    "3. GO enrichment with Fisher Exact Test\n",
    "https://www.nature.com/articles/srep04191\n",
    "https://www.pathwaycommons.org/guide/primers/statistics/fishers_exact_test/"
   ]
  },
  {
   "cell_type": "markdown",
   "metadata": {},
   "source": [
    "# เริ่มรันโค๊ดกันได้เลย"
   ]
  },
  {
   "cell_type": "code",
   "execution_count": 10,
   "metadata": {
    "Collapsed": "false"
   },
   "outputs": [],
   "source": [
    "##Import Required Modules\n",
    "from string import*\n",
    "import os\n",
    "import numpy as np\n",
    "import scipy.stats as stats"
   ]
  },
  {
   "cell_type": "code",
   "execution_count": 11,
   "metadata": {},
   "outputs": [],
   "source": [
    "oddsratio, pvalue = stats.fisher_exact([[900, 1000], [10000, 5000000]])"
   ]
  },
  {
   "cell_type": "code",
   "execution_count": 12,
   "metadata": {},
   "outputs": [
    {
     "data": {
      "text/plain": [
       "450.0"
      ]
     },
     "execution_count": 12,
     "metadata": {},
     "output_type": "execute_result"
    }
   ],
   "source": [
    "oddsratio"
   ]
  },
  {
   "cell_type": "code",
   "execution_count": 14,
   "metadata": {},
   "outputs": [
    {
     "data": {
      "text/plain": [
       "0.0"
      ]
     },
     "execution_count": 14,
     "metadata": {},
     "output_type": "execute_result"
    }
   ],
   "source": [
    "float(pvalue)"
   ]
  },
  {
   "cell_type": "code",
   "execution_count": 3,
   "metadata": {
    "Collapsed": "false"
   },
   "outputs": [
    {
     "name": "stdout",
     "output_type": "stream",
     "text": [
      "TPM_cluster1_in_heatmap_13July.txt\n",
      "TPM_cluster2_in_heatmap_13July.txt\n",
      "TPM_cluster3_in_heatmap_13July.txt\n",
      "TPM_cluster4_in_heatmap_13July.txt\n",
      "TPM_cluster5_in_heatmap_13July.txt\n",
      "TPM_cluster6_in_heatmap_13July.txt\n",
      "TPM_cluster7_in_heatmap_13July.txt\n"
     ]
    }
   ],
   "source": [
    "##[0]Create function\n",
    "def countNoGene(goId,data):\n",
    "    noGene = 0\n",
    "    for i in data:\n",
    "        iList = i.split(\"\\t\")\n",
    "        term = \";\".join(iList[20:23])##check GO with 3 categories\n",
    "        if goId in term:\n",
    "            noGene = noGene + 1\n",
    "    return noGene\n",
    "\n",
    "##[1]Load input file and creating variable\n",
    "path = \"C:\\\\Users\\\\wutto\\\\Desktop\\\\ML_aspergillus_aculeatus\\\\goEnrichment\\\\input\\\\\"\n",
    "os.chdir(path)\n",
    "fileList = os.listdir(path)\n",
    "\n",
    "dataAll = open(\"C:\\\\Users\\\\wutto\\\\Desktop\\\\ML_aspergillus_aculeatus\\\\goEnrichment\\\\4_ortholog_gene_with_selected_function_only_heatMap.txt\",'r').readlines()\n",
    "header = \"fileName\\tGO_term_and_ID\\tA\\tB\\tC\\tD\\toddRatio\\tP-value\\tcategory\\tlist_sig_genes\\n\"\n",
    "del dataAll[0]##delete header\n",
    "\n",
    "saveFile = open(\"C:\\\\Users\\\\wutto\\\\Desktop\\\\ML_aspergillus_aculeatus\\\\goEnrichment\\\\GO_enrichment_7_cluster_with_gene_in_heatmap.txt\",\"w\")\n",
    "saveFile.write(header)\n",
    "\n",
    "saveFileFilter = open(\"C:\\\\Users\\\\wutto\\\\Desktop\\\\ML_aspergillus_aculeatus\\\\goEnrichment\\\\GO_enrichment_7_cluster_with_gene_in_heatmap_filter.txt\",\"w\")\n",
    "saveFileFilter.write(header)\n",
    "\n",
    "\n",
    "\"\"\"create GO term and category dictionaries\"\"\"\n",
    "goCat = {}\n",
    "for i in dataAll:\n",
    "    iList = i.split(\"\\t\")\n",
    "    \n",
    "    if \"GO:\" in iList[20]:\n",
    "        for key in iList[20].split(\"; \"):\n",
    "            goCat[key] = \"cellular_component\"\n",
    "\n",
    "    if \"GO:\" in iList[21]:\n",
    "        for key in iList[21].split(\"; \"):\n",
    "            goCat[key] = \"biological_process\"\n",
    "\n",
    "    if \"GO:\" in iList[22]:\n",
    "        for key in iList[22].replace(\"\\n\",\"\").split(\"; \"):\n",
    "            goCat[key] = \"molecular_function\"\n",
    "\n",
    "\"\"\"Calculate Chi-Square\"\"\"    \n",
    "for fileName in fileList:\n",
    "    print (fileName)\n",
    "    \n",
    "    \"\"\"Loading DEG list\"\"\"\n",
    "    sigGene = open(fileName,'r').readlines()\n",
    "\n",
    "    for i in range(0,len(sigGene)):\n",
    "        sigGene[i] = sigGene[i].strip()\n",
    "        \n",
    "    data = []\n",
    "    dataNoSig = []\n",
    "    for i in dataAll:\n",
    "        if (i.split(\"\\t\")[1] in sigGene):\n",
    "            data.append(i)\n",
    "        else:\n",
    "            dataNoSig.append(i)\n",
    "\n",
    "    \"\"\"Adding data\"\"\"\n",
    "    go = {}\n",
    "    for i in data:\n",
    "        iList = i.split(\"\\t\")\n",
    "        #cellular_component\n",
    "        if \"GO:\" in iList[20]:\n",
    "            member = iList[1]\n",
    "            for key in iList[20].split(\"; \"):\n",
    "                if key not in go:\n",
    "                    value = []\n",
    "                else:\n",
    "                    value = go[key]\n",
    "                value.append(member)##adding value into result\n",
    "                go[key] = value\n",
    "\n",
    "        #biological_process\n",
    "        if \"GO:\" in iList[21]:\n",
    "            member = iList[1]\n",
    "            for key in iList[21].split(\"; \"):\n",
    "                if key not in go:\n",
    "                    value = []\n",
    "                else:\n",
    "                    value = go[key]\n",
    "                value.append(member)##adding value into result\n",
    "                go[key] = value\n",
    "\n",
    "        #molecular_function\n",
    "        if \"GO:\" in iList[22]:\n",
    "            member = iList[1]\n",
    "            for key in iList[22].replace(\"\\n\",\"\").split(\"; \"):\n",
    "                if key not in go:\n",
    "                    value = []\n",
    "                else:\n",
    "                    value = go[key]\n",
    "                value.append(member)##adding value into result\n",
    "                go[key] = value\n",
    "\n",
    "        \n",
    "    \"\"\"Count Strain\"\"\"\n",
    "    for goId in go.keys():\n",
    "        a = len(go[goId])\n",
    "        b = countNoGene(goId,dataNoSig)\n",
    "        c = len(sigGene) - a\n",
    "        d = countNoGene(\"GO:\",dataNoSig) - b\n",
    "        oddsratio, pvalue = stats.fisher_exact([[a, b], [c, d]])\n",
    "        #print fileName,\"\\t\",goId,\"\\t\",a,\"\\t\",b,\"\\t\",c,\"\\t\",d,\"\\t\",oddsratio,\"\\t\",pvalue,\"\\t\",goTerm[goId],\"\\t\",goCat[goId],\"\\t\",join(go[goId],\";\")\n",
    "        #dataRecord = fileName+\"\\t\"+goId+\"\\t\"+str(a)+\"\\t\"+str(b)+\"\\t\"+str(c)+\"\\t\"+str(d)+\"\\t\"+str(oddsratio)+\"\\t\"+str(pvalue)+\"\\t\"+goTerm[goId]+\"\\t\"+goCat[goId]+\"\\t\"+join(go[goId],\";\")\n",
    "        dataRecord = fileName.split(\"_\")[1]+\"\\t\"+goId+\"\\t\"+str(a)+\"\\t\"+str(b)+\"\\t\"+str(c)+\"\\t\"+str(d)+\"\\t\"+str(oddsratio)+\"\\t\"+str(pvalue)+\"\\t\"+goCat[goId]+\"\\t\"+\";\".join(go[goId])\n",
    "        saveFile.write(dataRecord)\n",
    "        saveFile.write(\"\\n\")\n",
    "        \n",
    "        ##write filtered data into an output file\n",
    "        if (pvalue < 0.05) and (str(oddsratio) != \"inf\"):\n",
    "            saveFileFilter.write(dataRecord)\n",
    "            saveFileFilter.write(\"\\n\")\n",
    "            \n",
    "    # [a | b ]\n",
    "    # --------\n",
    "    # [c | d ]\n",
    "\n",
    "\"\"\"\n",
    "***เลือกเฉพาะยีนที่มี GO annotation\n",
    "\n",
    "\n",
    "             NO.genes in current cluster      genes in other cluster \n",
    "             |==========================|=============================|\n",
    "target GO ID |_______________a__________|______________b______________|\n",
    "other GO ID  |               c          |              d              |\n",
    "             |==========================|=============================|\n",
    "    \n",
    "\"\"\"\n",
    "saveFile.close()\n",
    "saveFileFilter.close()"
   ]
  },
  {
   "cell_type": "code",
   "execution_count": 13,
   "metadata": {
    "Collapsed": "false",
    "scrolled": true
   },
   "outputs": [],
   "source": [
    "##calculate distribution\n",
    "b = open(\"C:\\\\Users\\\\wutto\\\\Desktop\\\\ML_aspergillus_aculeatus\\\\goEnrichment\\\\GO_enrichment_7_cluster_with_gene_in_heatmap_filter.txt\",'r').readlines()\n",
    "del b[0]##delete header\n",
    "\n",
    "go = {}\n",
    "cluster = {}\n",
    "for i in b:\n",
    "    go[i.split(\"\\t\")[1]] = \"\"\n",
    "    cluster[i.split(\"\\t\")[0]] = \"\"\n",
    "\n",
    "goList = list(go.keys())\n",
    "goList.sort()\n",
    "\n",
    "clusterList = list(cluster.keys())\n",
    "\n",
    "\n",
    "saveFile = open(\"C:\\\\Users\\\\wutto\\\\Desktop\\\\ML_aspergillus_aculeatus\\\\goEnrichment\\\\GO_enrichment_7_cluster_with_gene_in_heatmap_filter_summary.txt\",\"w\")\n",
    "header = \"GO_term\\t\"+\"\\t\".join(clusterList)+\"\\n\"\n",
    "saveFile.write(header)\n",
    "\n",
    "for goTerm in goList:\n",
    "    record = []\n",
    "    record.append(goTerm)\n",
    "    for clusterId in cluster:\n",
    "        num = \"0\"\n",
    "        for i in b:\n",
    "            if (clusterId == i.split(\"\\t\")[0]) and (goTerm == i.split(\"\\t\")[1]):\n",
    "                num = i.split(\"\\t\")[2]\n",
    "        record.append(num)\n",
    "    saveFile.write(\"\\t\".join(record))\n",
    "    saveFile.write(\"\\n\")\n",
    "                \n",
    "saveFile.close()"
   ]
  },
  {
   "cell_type": "code",
   "execution_count": null,
   "metadata": {},
   "outputs": [],
   "source": []
  }
 ],
 "metadata": {
  "kernelspec": {
   "display_name": "Python 3 (ipykernel)",
   "language": "python",
   "name": "python3"
  },
  "language_info": {
   "codemirror_mode": {
    "name": "ipython",
    "version": 3
   },
   "file_extension": ".py",
   "mimetype": "text/x-python",
   "name": "python",
   "nbconvert_exporter": "python",
   "pygments_lexer": "ipython3",
   "version": "3.9.7"
  }
 },
 "nbformat": 4,
 "nbformat_minor": 4
}
