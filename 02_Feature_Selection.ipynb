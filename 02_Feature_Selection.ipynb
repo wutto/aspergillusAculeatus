{
 "cells": [
  {
   "cell_type": "markdown",
   "metadata": {},
   "source": [
    "# Multiple Linear Regression of RNA-Seq data in Aspergillus aculeatus\n",
    "ref: https://scikit-learn.org/stable/auto_examples/ensemble/plot_forest_importances.html"
   ]
  },
  {
   "cell_type": "markdown",
   "metadata": {},
   "source": [
    "# Part2 Feature Selection"
   ]
  },
  {
   "cell_type": "markdown",
   "metadata": {},
   "source": [
    "<strong>Objective:</strong><br />\n",
    "1. ทำการคัดกรองยีน (feature/attribute) ที่ไม่เกี่ยวข้องกับ enzyme activity ออกไป\n",
    "2. เลือกยีน (feature/attribute) ที่มีความสำคัญหรือเกี่ยวข้องกันกับค่า enzyme activity ที่มากที่สุดจำนวน 5-9 ยีน (จำนวน ยีนที่เลือกควรจะน้อยกว่าจำนวนตัวอย่าง)"
   ]
  },
  {
   "cell_type": "markdown",
   "metadata": {},
   "source": [
    "บทความที่เกี่ยวข้องกับการทำ Feature Selection แบบอธิบายหลักการและ concept\n",
    "\n",
    "https://www.facebook.com/dataforeverybody/posts/2363798550546954/\n",
    "\n",
    "https://medium.com/@key.sompornpettakon.statkmitl/feature-selection-101-9eb8cf362dff\n",
    "\n",
    "https://medium.com/@doohpim/03-feature-selection-%E0%B8%81%E0%B8%B2%E0%B8%A3%E0%B9%80%E0%B8%A5%E0%B8%B7%E0%B8%AD%E0%B8%81%E0%B8%84%E0%B8%B8%E0%B8%93%E0%B8%A5%E0%B8%B1%E0%B8%81%E0%B8%A9%E0%B8%93%E0%B8%B0-446f8f0c094b\n",
    "\n",
    "https://arnondora.in.th/feature-selection-machine-learning/"
   ]
  },
  {
   "cell_type": "code",
   "execution_count": 4,
   "metadata": {},
   "outputs": [],
   "source": [
    "#เริ่มต้นด้วยการ Load package ที่จำเป็นสำหรับการทำงาน\n",
    "import pandas as pd\n",
    "import seaborn as sns\n",
    "import numpy as np\n",
    "import matplotlib.pyplot as plt\n",
    "%matplotlib inline\n",
    "%config InlineBackend.figure_format = 'retina'"
   ]
  },
  {
   "cell_type": "code",
   "execution_count": 5,
   "metadata": {},
   "outputs": [
    {
     "name": "stdout",
     "output_type": "stream",
     "text": [
      "pandas  version: 0.25.3\n",
      "numpy   version: 1.17.4\n",
      "seaborn version: 0.9.0\n"
     ]
    }
   ],
   "source": [
    "#ตรวจสอบ version ของ package ที่ได้ทำการเรียกมา\n",
    "print(f'pandas  version: {pd.__version__}')\n",
    "print(f'numpy   version: {np.__version__}')\n",
    "print(f'seaborn version: {sns.__version__}')"
   ]
  },
  {
   "cell_type": "code",
   "execution_count": 6,
   "metadata": {
    "scrolled": true
   },
   "outputs": [
    {
     "data": {
      "text/html": [
       "<div>\n",
       "<style scoped>\n",
       "    .dataframe tbody tr th:only-of-type {\n",
       "        vertical-align: middle;\n",
       "    }\n",
       "\n",
       "    .dataframe tbody tr th {\n",
       "        vertical-align: top;\n",
       "    }\n",
       "\n",
       "    .dataframe thead th {\n",
       "        text-align: right;\n",
       "    }\n",
       "</style>\n",
       "<table border=\"1\" class=\"dataframe\">\n",
       "  <thead>\n",
       "    <tr style=\"text-align: right;\">\n",
       "      <th></th>\n",
       "      <th>geneId</th>\n",
       "      <th>acu00000_1</th>\n",
       "      <th>acu00000_13</th>\n",
       "      <th>acu00000_14</th>\n",
       "      <th>acu00000_15</th>\n",
       "      <th>acu00000_2</th>\n",
       "      <th>acu00000_4</th>\n",
       "      <th>acu00000_5</th>\n",
       "      <th>acu00000_9</th>\n",
       "      <th>acu00002_2</th>\n",
       "      <th>...</th>\n",
       "      <th>acu08289_1</th>\n",
       "      <th>acu08290_1</th>\n",
       "      <th>acu08291_1</th>\n",
       "      <th>acu08292_1</th>\n",
       "      <th>acu08293_1</th>\n",
       "      <th>acu08294_1</th>\n",
       "      <th>acu08295_1</th>\n",
       "      <th>activity</th>\n",
       "      <th>activity2Class</th>\n",
       "      <th>activity3Class</th>\n",
       "    </tr>\n",
       "  </thead>\n",
       "  <tbody>\n",
       "    <tr>\n",
       "      <th>0</th>\n",
       "      <td>BCC199_A</td>\n",
       "      <td>8.553751</td>\n",
       "      <td>0.172295</td>\n",
       "      <td>0.753331</td>\n",
       "      <td>16.922520</td>\n",
       "      <td>48.318485</td>\n",
       "      <td>0.344598</td>\n",
       "      <td>6.002934</td>\n",
       "      <td>1.195810</td>\n",
       "      <td>2.951030</td>\n",
       "      <td>...</td>\n",
       "      <td>3.369402</td>\n",
       "      <td>1.049392</td>\n",
       "      <td>1.218003</td>\n",
       "      <td>9.117593</td>\n",
       "      <td>47.871967</td>\n",
       "      <td>4.597338</td>\n",
       "      <td>1.959886</td>\n",
       "      <td>1.516</td>\n",
       "      <td>high</td>\n",
       "      <td>medium</td>\n",
       "    </tr>\n",
       "    <tr>\n",
       "      <th>1</th>\n",
       "      <td>BCC199_B</td>\n",
       "      <td>17.619043</td>\n",
       "      <td>0.000000</td>\n",
       "      <td>0.281621</td>\n",
       "      <td>4.535475</td>\n",
       "      <td>15.585501</td>\n",
       "      <td>0.255006</td>\n",
       "      <td>2.996228</td>\n",
       "      <td>0.463476</td>\n",
       "      <td>2.474162</td>\n",
       "      <td>...</td>\n",
       "      <td>0.475442</td>\n",
       "      <td>0.327337</td>\n",
       "      <td>0.000000</td>\n",
       "      <td>0.879822</td>\n",
       "      <td>79.582764</td>\n",
       "      <td>1.578946</td>\n",
       "      <td>0.556271</td>\n",
       "      <td>1.307</td>\n",
       "      <td>high</td>\n",
       "      <td>medium</td>\n",
       "    </tr>\n",
       "    <tr>\n",
       "      <th>2</th>\n",
       "      <td>BCC199_C</td>\n",
       "      <td>15.777807</td>\n",
       "      <td>0.000000</td>\n",
       "      <td>0.000000</td>\n",
       "      <td>4.093641</td>\n",
       "      <td>16.862034</td>\n",
       "      <td>0.078562</td>\n",
       "      <td>1.626894</td>\n",
       "      <td>0.569101</td>\n",
       "      <td>3.262403</td>\n",
       "      <td>...</td>\n",
       "      <td>0.842889</td>\n",
       "      <td>0.492263</td>\n",
       "      <td>0.257300</td>\n",
       "      <td>6.860642</td>\n",
       "      <td>83.444359</td>\n",
       "      <td>3.561083</td>\n",
       "      <td>1.164043</td>\n",
       "      <td>1.575</td>\n",
       "      <td>high</td>\n",
       "      <td>medium</td>\n",
       "    </tr>\n",
       "    <tr>\n",
       "      <th>3</th>\n",
       "      <td>BCC56535_A</td>\n",
       "      <td>0.889026</td>\n",
       "      <td>0.234836</td>\n",
       "      <td>1.877119</td>\n",
       "      <td>12.957662</td>\n",
       "      <td>22.900455</td>\n",
       "      <td>3.847135</td>\n",
       "      <td>12.824106</td>\n",
       "      <td>0.761631</td>\n",
       "      <td>0.409413</td>\n",
       "      <td>...</td>\n",
       "      <td>3.625029</td>\n",
       "      <td>15.687724</td>\n",
       "      <td>34.086227</td>\n",
       "      <td>30.144608</td>\n",
       "      <td>55.342480</td>\n",
       "      <td>6.240952</td>\n",
       "      <td>0.650502</td>\n",
       "      <td>0.260</td>\n",
       "      <td>low</td>\n",
       "      <td>low</td>\n",
       "    </tr>\n",
       "    <tr>\n",
       "      <th>4</th>\n",
       "      <td>BCC56535_B</td>\n",
       "      <td>0.000000</td>\n",
       "      <td>0.000000</td>\n",
       "      <td>0.000000</td>\n",
       "      <td>4.256706</td>\n",
       "      <td>12.697367</td>\n",
       "      <td>0.000000</td>\n",
       "      <td>0.384335</td>\n",
       "      <td>0.246236</td>\n",
       "      <td>0.000000</td>\n",
       "      <td>...</td>\n",
       "      <td>0.074069</td>\n",
       "      <td>0.000000</td>\n",
       "      <td>1.020378</td>\n",
       "      <td>13.492409</td>\n",
       "      <td>65.686302</td>\n",
       "      <td>8.724833</td>\n",
       "      <td>0.138616</td>\n",
       "      <td>0.145</td>\n",
       "      <td>low</td>\n",
       "      <td>low</td>\n",
       "    </tr>\n",
       "    <tr>\n",
       "      <th>5</th>\n",
       "      <td>BCC56535_C</td>\n",
       "      <td>0.000000</td>\n",
       "      <td>0.000000</td>\n",
       "      <td>0.000000</td>\n",
       "      <td>7.068939</td>\n",
       "      <td>7.409282</td>\n",
       "      <td>0.213775</td>\n",
       "      <td>1.186643</td>\n",
       "      <td>0.000000</td>\n",
       "      <td>0.077722</td>\n",
       "      <td>...</td>\n",
       "      <td>0.000000</td>\n",
       "      <td>0.000000</td>\n",
       "      <td>1.270019</td>\n",
       "      <td>7.693921</td>\n",
       "      <td>58.360996</td>\n",
       "      <td>5.185790</td>\n",
       "      <td>0.034781</td>\n",
       "      <td>0.195</td>\n",
       "      <td>low</td>\n",
       "      <td>low</td>\n",
       "    </tr>\n",
       "    <tr>\n",
       "      <th>6</th>\n",
       "      <td>BCC56535_D</td>\n",
       "      <td>0.057678</td>\n",
       "      <td>0.000000</td>\n",
       "      <td>1.021568</td>\n",
       "      <td>7.296792</td>\n",
       "      <td>8.579680</td>\n",
       "      <td>0.391414</td>\n",
       "      <td>5.521814</td>\n",
       "      <td>0.400340</td>\n",
       "      <td>0.000000</td>\n",
       "      <td>...</td>\n",
       "      <td>0.158293</td>\n",
       "      <td>0.252113</td>\n",
       "      <td>3.693663</td>\n",
       "      <td>8.895016</td>\n",
       "      <td>69.126770</td>\n",
       "      <td>1.527307</td>\n",
       "      <td>0.000000</td>\n",
       "      <td>0.251</td>\n",
       "      <td>low</td>\n",
       "      <td>low</td>\n",
       "    </tr>\n",
       "    <tr>\n",
       "      <th>7</th>\n",
       "      <td>HUT2365_A</td>\n",
       "      <td>0.000000</td>\n",
       "      <td>0.220658</td>\n",
       "      <td>10.100449</td>\n",
       "      <td>9.381460</td>\n",
       "      <td>3.981732</td>\n",
       "      <td>2.054885</td>\n",
       "      <td>33.030998</td>\n",
       "      <td>1.245618</td>\n",
       "      <td>1.547278</td>\n",
       "      <td>...</td>\n",
       "      <td>0.645219</td>\n",
       "      <td>12.719957</td>\n",
       "      <td>14.126668</td>\n",
       "      <td>98.608780</td>\n",
       "      <td>38.251125</td>\n",
       "      <td>2.338180</td>\n",
       "      <td>2.915910</td>\n",
       "      <td>5.333</td>\n",
       "      <td>high</td>\n",
       "      <td>high</td>\n",
       "    </tr>\n",
       "    <tr>\n",
       "      <th>8</th>\n",
       "      <td>HUT2365_B</td>\n",
       "      <td>0.581114</td>\n",
       "      <td>0.097028</td>\n",
       "      <td>3.222058</td>\n",
       "      <td>3.890594</td>\n",
       "      <td>7.513707</td>\n",
       "      <td>1.732018</td>\n",
       "      <td>33.175011</td>\n",
       "      <td>1.382367</td>\n",
       "      <td>1.077620</td>\n",
       "      <td>...</td>\n",
       "      <td>0.776796</td>\n",
       "      <td>2.879683</td>\n",
       "      <td>9.945427</td>\n",
       "      <td>21.128397</td>\n",
       "      <td>29.774530</td>\n",
       "      <td>2.653734</td>\n",
       "      <td>3.243918</td>\n",
       "      <td>3.624</td>\n",
       "      <td>high</td>\n",
       "      <td>high</td>\n",
       "    </tr>\n",
       "    <tr>\n",
       "      <th>9</th>\n",
       "      <td>HUT2365_C</td>\n",
       "      <td>0.598314</td>\n",
       "      <td>0.094493</td>\n",
       "      <td>1.786440</td>\n",
       "      <td>2.082320</td>\n",
       "      <td>7.243462</td>\n",
       "      <td>1.473324</td>\n",
       "      <td>29.517067</td>\n",
       "      <td>1.538031</td>\n",
       "      <td>1.867690</td>\n",
       "      <td>...</td>\n",
       "      <td>0.619233</td>\n",
       "      <td>2.761027</td>\n",
       "      <td>9.927620</td>\n",
       "      <td>19.668028</td>\n",
       "      <td>29.649534</td>\n",
       "      <td>2.786057</td>\n",
       "      <td>3.379966</td>\n",
       "      <td>4.050</td>\n",
       "      <td>high</td>\n",
       "      <td>high</td>\n",
       "    </tr>\n",
       "  </tbody>\n",
       "</table>\n",
       "<p>10 rows × 8627 columns</p>\n",
       "</div>"
      ],
      "text/plain": [
       "       geneId  acu00000_1  acu00000_13  acu00000_14  acu00000_15  acu00000_2  \\\n",
       "0    BCC199_A    8.553751     0.172295     0.753331    16.922520   48.318485   \n",
       "1    BCC199_B   17.619043     0.000000     0.281621     4.535475   15.585501   \n",
       "2    BCC199_C   15.777807     0.000000     0.000000     4.093641   16.862034   \n",
       "3  BCC56535_A    0.889026     0.234836     1.877119    12.957662   22.900455   \n",
       "4  BCC56535_B    0.000000     0.000000     0.000000     4.256706   12.697367   \n",
       "5  BCC56535_C    0.000000     0.000000     0.000000     7.068939    7.409282   \n",
       "6  BCC56535_D    0.057678     0.000000     1.021568     7.296792    8.579680   \n",
       "7   HUT2365_A    0.000000     0.220658    10.100449     9.381460    3.981732   \n",
       "8   HUT2365_B    0.581114     0.097028     3.222058     3.890594    7.513707   \n",
       "9   HUT2365_C    0.598314     0.094493     1.786440     2.082320    7.243462   \n",
       "\n",
       "   acu00000_4  acu00000_5  acu00000_9  acu00002_2  ...  acu08289_1  \\\n",
       "0    0.344598    6.002934    1.195810    2.951030  ...    3.369402   \n",
       "1    0.255006    2.996228    0.463476    2.474162  ...    0.475442   \n",
       "2    0.078562    1.626894    0.569101    3.262403  ...    0.842889   \n",
       "3    3.847135   12.824106    0.761631    0.409413  ...    3.625029   \n",
       "4    0.000000    0.384335    0.246236    0.000000  ...    0.074069   \n",
       "5    0.213775    1.186643    0.000000    0.077722  ...    0.000000   \n",
       "6    0.391414    5.521814    0.400340    0.000000  ...    0.158293   \n",
       "7    2.054885   33.030998    1.245618    1.547278  ...    0.645219   \n",
       "8    1.732018   33.175011    1.382367    1.077620  ...    0.776796   \n",
       "9    1.473324   29.517067    1.538031    1.867690  ...    0.619233   \n",
       "\n",
       "   acu08290_1  acu08291_1  acu08292_1  acu08293_1  acu08294_1  acu08295_1  \\\n",
       "0    1.049392    1.218003    9.117593   47.871967    4.597338    1.959886   \n",
       "1    0.327337    0.000000    0.879822   79.582764    1.578946    0.556271   \n",
       "2    0.492263    0.257300    6.860642   83.444359    3.561083    1.164043   \n",
       "3   15.687724   34.086227   30.144608   55.342480    6.240952    0.650502   \n",
       "4    0.000000    1.020378   13.492409   65.686302    8.724833    0.138616   \n",
       "5    0.000000    1.270019    7.693921   58.360996    5.185790    0.034781   \n",
       "6    0.252113    3.693663    8.895016   69.126770    1.527307    0.000000   \n",
       "7   12.719957   14.126668   98.608780   38.251125    2.338180    2.915910   \n",
       "8    2.879683    9.945427   21.128397   29.774530    2.653734    3.243918   \n",
       "9    2.761027    9.927620   19.668028   29.649534    2.786057    3.379966   \n",
       "\n",
       "   activity  activity2Class  activity3Class  \n",
       "0     1.516            high          medium  \n",
       "1     1.307            high          medium  \n",
       "2     1.575            high          medium  \n",
       "3     0.260             low             low  \n",
       "4     0.145             low             low  \n",
       "5     0.195             low             low  \n",
       "6     0.251             low             low  \n",
       "7     5.333            high            high  \n",
       "8     3.624            high            high  \n",
       "9     4.050            high            high  \n",
       "\n",
       "[10 rows x 8627 columns]"
      ]
     },
     "execution_count": 6,
     "metadata": {},
     "output_type": "execute_result"
    }
   ],
   "source": [
    "#เริ่มต้นด้วยการโหลดข้อมูลจากขั้นตอนที่แล้วมา \n",
    "#(เนื่องจากข้อมูลมีจำนวนมาก บาง column อาจไม่ถูกแสดงน๊า)\n",
    "url='https://raw.githubusercontent.com/wutto/aspergillusAculeatus/main/1_input_rapidMiner_8623_CMCase.csv'\n",
    "df=pd.read_csv(url)\n",
    "df.head(10)"
   ]
  },
  {
   "cell_type": "code",
   "execution_count": 7,
   "metadata": {
    "scrolled": false
   },
   "outputs": [
    {
     "name": "stdout",
     "output_type": "stream",
     "text": [
      "<class 'pandas.core.frame.DataFrame'>\n",
      "RangeIndex: 10 entries, 0 to 9\n",
      "Columns: 8627 entries, geneId to activity3Class\n",
      "dtypes: float64(8623), int64(1), object(3)\n",
      "memory usage: 674.1+ KB\n"
     ]
    }
   ],
   "source": [
    "df.info()"
   ]
  },
  {
   "cell_type": "markdown",
   "metadata": {},
   "source": [
    "## ทำการโหลด package sklearn: Classifier"
   ]
  },
  {
   "cell_type": "code",
   "execution_count": 8,
   "metadata": {},
   "outputs": [],
   "source": [
    "import sklearn\n",
    "from sklearn.model_selection import train_test_split\n",
    "from sklearn.neighbors import KNeighborsClassifier\n",
    "from sklearn.linear_model import LogisticRegression\n",
    "from sklearn.linear_model import Perceptron\n",
    "from sklearn.naive_bayes import GaussianNB\n",
    "from sklearn.neural_network import MLPClassifier\n",
    "from sklearn.svm import SVC\n",
    "from sklearn.tree import DecisionTreeClassifier\n",
    "from sklearn.ensemble import GradientBoostingClassifier\n",
    "from sklearn.ensemble import RandomForestClassifier\n",
    "from sklearn.ensemble import BaggingClassifier\n",
    "from sklearn.ensemble import AdaBoostClassifier\n",
    "from sklearn.ensemble import ExtraTreesClassifier\n",
    "from sklearn.gaussian_process import GaussianProcessClassifier\n",
    "from sklearn import metrics"
   ]
  },
  {
   "cell_type": "code",
   "execution_count": 9,
   "metadata": {},
   "outputs": [
    {
     "name": "stdout",
     "output_type": "stream",
     "text": [
      "sklearn version: 0.22.1\n"
     ]
    }
   ],
   "source": [
    "print(f'sklearn version: {sklearn.__version__}')"
   ]
  },
  {
   "cell_type": "code",
   "execution_count": 10,
   "metadata": {},
   "outputs": [
    {
     "data": {
      "text/plain": [
       "Index(['geneId', 'acu00000_1', 'acu00000_13', 'acu00000_14', 'acu00000_15',\n",
       "       'acu00000_2', 'acu00000_4', 'acu00000_5', 'acu00000_9', 'acu00002_2',\n",
       "       ...\n",
       "       'acu08289_1', 'acu08290_1', 'acu08291_1', 'acu08292_1', 'acu08293_1',\n",
       "       'acu08294_1', 'acu08295_1', 'activity', 'activity2Class',\n",
       "       'activity3Class'],\n",
       "      dtype='object', length=8627)"
      ]
     },
     "execution_count": 10,
     "metadata": {},
     "output_type": "execute_result"
    }
   ],
   "source": [
    "df.columns"
   ]
  },
  {
   "cell_type": "markdown",
   "metadata": {},
   "source": [
    "1. วิธีที่ 1 คัดเลือก important features จาก Random forest (labelled class เป็น nominal class หรือ คลาสที่เป็นคำนาม ซึ่งในที่นี้คือ Enzyme activity ที่แบ่งเป็น สูง กลาง ต่ำ)"
   ]
  },
  {
   "cell_type": "markdown",
   "metadata": {},
   "source": [
    "1.1 คัดเลือก important features จาก Random forest โดยแบ่งคลาส enzyme activity เป็น สูง กลาง ต่ำ "
   ]
  },
  {
   "cell_type": "code",
   "execution_count": 11,
   "metadata": {},
   "outputs": [
    {
     "data": {
      "text/plain": [
       "RandomForestClassifier(bootstrap=True, ccp_alpha=0.0, class_weight=None,\n",
       "                       criterion='gini', max_depth=None, max_features='auto',\n",
       "                       max_leaf_nodes=None, max_samples=None,\n",
       "                       min_impurity_decrease=0.0, min_impurity_split=None,\n",
       "                       min_samples_leaf=1, min_samples_split=2,\n",
       "                       min_weight_fraction_leaf=0.0, n_estimators=250,\n",
       "                       n_jobs=None, oob_score=False, random_state=9, verbose=0,\n",
       "                       warm_start=False)"
      ]
     },
     "execution_count": 11,
     "metadata": {},
     "output_type": "execute_result"
    }
   ],
   "source": [
    "# เริ่มต้นจากการกำหนด Input และ class label ก่อน โดย\n",
    "# input จะเป็น ค่า TPM \n",
    "# class label เป็นค่า Enzyme activity (สูง, กลาง, ต่ำ ตาม strain HUT2365, BCC199, BCC56535)\n",
    "\n",
    "# model= DecisionTreeClassifier(random_state=7)\n",
    "# model= ExtraTreesClassifier(n_estimators=250, random_state=7)\n",
    "#X=df[['acu00000_1', 'acu00000_13', 'acu00000_14',\n",
    "#       'acu00000_15', 'acu00000_2', 'acu00000_4', 'acu00000_5', 'acu00000_9']]\n",
    "\n",
    "model= RandomForestClassifier(n_estimators=250, random_state=9)\n",
    "X=df.iloc[0:10,1:8624]\n",
    "y=df['activity3Class']\n",
    "model.fit(X,y)"
   ]
  },
  {
   "cell_type": "code",
   "execution_count": 12,
   "metadata": {},
   "outputs": [
    {
     "data": {
      "text/plain": [
       "acu00000_1    0.000000\n",
       "acu05308_1    0.000000\n",
       "acu05307_1    0.000000\n",
       "acu05306_1    0.000000\n",
       "acu05304_1    0.000000\n",
       "                ...   \n",
       "acu03738_1    0.004715\n",
       "acu03415_1    0.004903\n",
       "acu05812_1    0.005071\n",
       "acu00557_1    0.005793\n",
       "acu06530_1    0.006182\n",
       "Length: 8623, dtype: float64"
      ]
     },
     "execution_count": 12,
     "metadata": {},
     "output_type": "execute_result"
    }
   ],
   "source": [
    "# แสดงค่า feature ที่มีความสำคัญจากน้อยไปมาก\n",
    "\n",
    "model.feature_importances_\n",
    "fs=pd.Series(model.feature_importances_, index=X.columns).sort_values(ascending=True)\n",
    "fs"
   ]
  },
  {
   "cell_type": "code",
   "execution_count": 13,
   "metadata": {},
   "outputs": [
    {
     "name": "stdout",
     "output_type": "stream",
     "text": [
      "acu04284_1    0.001103\n",
      "acu01192_1    0.001103\n",
      "acu04835_1    0.001103\n",
      "acu03983_1    0.001103\n",
      "acu05623_1    0.001103\n",
      "                ...   \n",
      "acu03738_1    0.004715\n",
      "acu03415_1    0.004903\n",
      "acu05812_1    0.005071\n",
      "acu00557_1    0.005793\n",
      "acu06530_1    0.006182\n",
      "Length: 480, dtype: float64\n"
     ]
    }
   ],
   "source": [
    "#คัดกรองเฉพาะ Feature ที่มีค่ามากกว่า 0.001\n",
    "selectedFeature = fs[fs > 0.001]\n",
    "print(selectedFeature)"
   ]
  },
  {
   "cell_type": "code",
   "execution_count": 14,
   "metadata": {},
   "outputs": [
    {
     "name": "stderr",
     "output_type": "stream",
     "text": [
      "C:\\Users\\wutto\\Anaconda3\\lib\\site-packages\\ipykernel_launcher.py:2: FutureWarning: The signature of `Series.to_csv` was aligned to that of `DataFrame.to_csv`, and argument 'header' will change its default value from False to True: please pass an explicit value to suppress this warning.\n",
      "  \n"
     ]
    }
   ],
   "source": [
    "#Save Feature ที่ผ่านการคัดกรอง\n",
    "selectedFeature.to_csv('C:\\\\Users\\\\wutto\\\\Desktop\\\\ML_aspergillus_aculeatus\\\\selectedFeature3Classes.csv', index=True)"
   ]
  },
  {
   "cell_type": "markdown",
   "metadata": {},
   "source": [
    "1.2 คัดเลือก important features จาก Random forest โดยแบ่งคลาส enzyme activity เป็น สูง และ ต่ำ "
   ]
  },
  {
   "cell_type": "code",
   "execution_count": 15,
   "metadata": {},
   "outputs": [
    {
     "data": {
      "text/plain": [
       "RandomForestClassifier(bootstrap=True, ccp_alpha=0.0, class_weight=None,\n",
       "                       criterion='gini', max_depth=None, max_features='auto',\n",
       "                       max_leaf_nodes=None, max_samples=None,\n",
       "                       min_impurity_decrease=0.0, min_impurity_split=None,\n",
       "                       min_samples_leaf=1, min_samples_split=2,\n",
       "                       min_weight_fraction_leaf=0.0, n_estimators=250,\n",
       "                       n_jobs=None, oob_score=False, random_state=9, verbose=0,\n",
       "                       warm_start=False)"
      ]
     },
     "execution_count": 15,
     "metadata": {},
     "output_type": "execute_result"
    }
   ],
   "source": [
    "# เริ่มต้นจากการกำหนด Input และ class label เหมือนในขั้นตอนก่อนหน้า โดย\n",
    "# input จะเป็น ค่า TPM \n",
    "# แต่ class label เป็นค่า Enzyme activity (สูง และ ต่ำ ตาม strain HUT2365, BCC199+BCC56535)\n",
    "\n",
    "# model= DecisionTreeClassifier(random_state=7)\n",
    "# model= ExtraTreesClassifier(n_estimators=250, random_state=7)\n",
    "#X=df[['acu00000_1', 'acu00000_13', 'acu00000_14',\n",
    "#       'acu00000_15', 'acu00000_2', 'acu00000_4', 'acu00000_5', 'acu00000_9']]\n",
    "\n",
    "model= RandomForestClassifier(n_estimators=250, random_state=9)\n",
    "X=df.iloc[0:10,1:8624]\n",
    "y=df['activity2Class']\n",
    "model.fit(X,y)"
   ]
  },
  {
   "cell_type": "code",
   "execution_count": 16,
   "metadata": {},
   "outputs": [
    {
     "data": {
      "text/plain": [
       "acu00000_1    0.000000\n",
       "acu05352_1    0.000000\n",
       "acu05351_1    0.000000\n",
       "acu05350_1    0.000000\n",
       "acu05348_1    0.000000\n",
       "                ...   \n",
       "acu06530_1    0.008032\n",
       "acu05056_1    0.008032\n",
       "acu03726_1    0.008032\n",
       "acu01004_1    0.008032\n",
       "acu05812_1    0.008032\n",
       "Length: 8623, dtype: float64"
      ]
     },
     "execution_count": 16,
     "metadata": {},
     "output_type": "execute_result"
    }
   ],
   "source": [
    "# แสดงค่า feature ที่มีความสำคัญจากน้อยไปมาก\n",
    "\n",
    "model.feature_importances_\n",
    "fs=pd.Series(model.feature_importances_, index=X.columns).sort_values(ascending=True)\n",
    "fs"
   ]
  },
  {
   "cell_type": "code",
   "execution_count": 17,
   "metadata": {},
   "outputs": [
    {
     "name": "stdout",
     "output_type": "stream",
     "text": [
      "acu01619_1    0.004016\n",
      "acu00747_1    0.004016\n",
      "acu03708_1    0.004016\n",
      "acu01618_1    0.004016\n",
      "acu06969_1    0.004016\n",
      "                ...   \n",
      "acu06530_1    0.008032\n",
      "acu05056_1    0.008032\n",
      "acu03726_1    0.008032\n",
      "acu01004_1    0.008032\n",
      "acu05812_1    0.008032\n",
      "Length: 244, dtype: float64\n"
     ]
    }
   ],
   "source": [
    "#คัดกรองเฉพาะ Feature ที่มีค่ามากกว่า 0.001\n",
    "selectedFeature = fs[fs > 0.001]\n",
    "print(selectedFeature)"
   ]
  },
  {
   "cell_type": "code",
   "execution_count": 18,
   "metadata": {},
   "outputs": [
    {
     "name": "stderr",
     "output_type": "stream",
     "text": [
      "C:\\Users\\wutto\\Anaconda3\\lib\\site-packages\\ipykernel_launcher.py:2: FutureWarning: The signature of `Series.to_csv` was aligned to that of `DataFrame.to_csv`, and argument 'header' will change its default value from False to True: please pass an explicit value to suppress this warning.\n",
      "  \n"
     ]
    }
   ],
   "source": [
    "#Save Feature ที่ผ่านการคัดกรอง\n",
    "selectedFeature.to_csv('C:\\\\Users\\\\wutto\\\\Desktop\\\\ML_aspergillus_aculeatus\\\\selectedFeature2Classes.csv', index=True)"
   ]
  },
  {
   "cell_type": "code",
   "execution_count": 19,
   "metadata": {},
   "outputs": [
    {
     "data": {
      "text/plain": [
       "<matplotlib.axes._subplots.AxesSubplot at 0x1ff02e3d6c8>"
      ]
     },
     "execution_count": 19,
     "metadata": {},
     "output_type": "execute_result"
    },
    {
     "data": {
      "image/png": "[encoded data removed]",
      "text/plain": [
       "<Figure size 432x288 with 1 Axes>"
      ]
     },
     "metadata": {
      "image/png": {
       "height": 248,
       "width": 417
      },
      "needs_background": "light"
     },
     "output_type": "display_data"
    }
   ],
   "source": [
    "#ทดลอง plot graph แสดง feature ที่มี score มากกว่า 0.005 \n",
    "fs[fs > 0.005].plot(kind='barh')"
   ]
  },
  {
   "cell_type": "code",
   "execution_count": 23,
   "metadata": {},
   "outputs": [
    {
     "data": {
      "text/plain": [
       "acu06530_1    0.008032\n",
       "acu05056_1    0.008032\n",
       "acu03726_1    0.008032\n",
       "acu01004_1    0.008032\n",
       "acu05812_1    0.008032\n",
       "dtype: float64"
      ]
     },
     "execution_count": 23,
     "metadata": {},
     "output_type": "execute_result"
    }
   ],
   "source": [
    "fs.nlargest(5) #.index"
   ]
  },
  {
   "cell_type": "code",
   "execution_count": 25,
   "metadata": {},
   "outputs": [
    {
     "data": {
      "text/html": [
       "<div>\n",
       "<style scoped>\n",
       "    .dataframe tbody tr th:only-of-type {\n",
       "        vertical-align: middle;\n",
       "    }\n",
       "\n",
       "    .dataframe tbody tr th {\n",
       "        vertical-align: top;\n",
       "    }\n",
       "\n",
       "    .dataframe thead th {\n",
       "        text-align: right;\n",
       "    }\n",
       "</style>\n",
       "<table border=\"1\" class=\"dataframe\">\n",
       "  <thead>\n",
       "    <tr style=\"text-align: right;\">\n",
       "      <th></th>\n",
       "      <th>acu06530_1</th>\n",
       "      <th>acu05056_1</th>\n",
       "      <th>acu03726_1</th>\n",
       "      <th>acu01004_1</th>\n",
       "      <th>acu05812_1</th>\n",
       "    </tr>\n",
       "  </thead>\n",
       "  <tbody>\n",
       "    <tr>\n",
       "      <th>0</th>\n",
       "      <td>0.137958</td>\n",
       "      <td>4.596985</td>\n",
       "      <td>9.502972</td>\n",
       "      <td>10.966106</td>\n",
       "      <td>263.217682</td>\n",
       "    </tr>\n",
       "    <tr>\n",
       "      <th>1</th>\n",
       "      <td>0.210226</td>\n",
       "      <td>2.622192</td>\n",
       "      <td>12.571158</td>\n",
       "      <td>4.154117</td>\n",
       "      <td>157.403931</td>\n",
       "    </tr>\n",
       "    <tr>\n",
       "      <th>2</th>\n",
       "      <td>0.348005</td>\n",
       "      <td>1.524597</td>\n",
       "      <td>20.901283</td>\n",
       "      <td>4.891729</td>\n",
       "      <td>183.043579</td>\n",
       "    </tr>\n",
       "    <tr>\n",
       "      <th>3</th>\n",
       "      <td>0.642355</td>\n",
       "      <td>0.572091</td>\n",
       "      <td>5.349617</td>\n",
       "      <td>26.824442</td>\n",
       "      <td>87.745689</td>\n",
       "    </tr>\n",
       "    <tr>\n",
       "      <th>4</th>\n",
       "      <td>0.000000</td>\n",
       "      <td>0.136923</td>\n",
       "      <td>4.398042</td>\n",
       "      <td>13.408345</td>\n",
       "      <td>25.802320</td>\n",
       "    </tr>\n",
       "  </tbody>\n",
       "</table>\n",
       "</div>"
      ],
      "text/plain": [
       "   acu06530_1  acu05056_1  acu03726_1  acu01004_1  acu05812_1\n",
       "0    0.137958    4.596985    9.502972   10.966106  263.217682\n",
       "1    0.210226    2.622192   12.571158    4.154117  157.403931\n",
       "2    0.348005    1.524597   20.901283    4.891729  183.043579\n",
       "3    0.642355    0.572091    5.349617   26.824442   87.745689\n",
       "4    0.000000    0.136923    4.398042   13.408345   25.802320"
      ]
     },
     "execution_count": 25,
     "metadata": {},
     "output_type": "execute_result"
    }
   ],
   "source": [
    "## เลือกวิเคราะห์ต่อกับข้อมูลที่แบ่งคลาสเป็นสองคลาสเท่านั้น (Enzyme Activity = สูง และ ต่ำ)\n",
    "## จากขั้นตอนก่อนหน้า จะได้ important feature จำนวน 5 ยีน\n",
    "## ขั้นตอนต่อมาเราจะใช้ feature (gene) ทั้ง 5 ตัวดังกล่าว ในการสร้าง model \n",
    "## และวัดประสิทธิภาพของ model โดยใช้วิธี split test + confusion matrix\n",
    "\n",
    "fs[fs > 0.005].index\n",
    "X=df[fs[fs > 0.005].index]\n",
    "y=df['activity2Class']\n",
    "X.head()"
   ]
  },
  {
   "cell_type": "code",
   "execution_count": 35,
   "metadata": {},
   "outputs": [],
   "source": [
    "# use stratify to split train/test\n",
    "test_size=.3\n",
    "X_train, X_test, y_train, y_test = train_test_split(X, y, \n",
    "                                                    test_size=test_size, \n",
    "                                                    stratify=y,\n",
    "                                                    random_state=7)"
   ]
  },
  {
   "cell_type": "markdown",
   "metadata": {},
   "source": [
    "## scikit-learn: confusion matrix\n",
    "$$\n",
    "\\begin{bmatrix}\n",
    "C_{0,0} & C_{0,1} \\\\\n",
    "C_{1,0} & C_{1,1}\n",
    "\\end{bmatrix}\n",
    "=\n",
    "\\begin{bmatrix}\n",
    "tn&fp \\\\\n",
    "fn&tp\n",
    "\\end{bmatrix}\n",
    "$$\n",
    "\n",
    "<table>\n",
    "<tr>\n",
    "    <td></td>\n",
    "    <td>predicted false</td>\n",
    "    <td>predicted true</td>\n",
    "</tr>\n",
    "<tr>\n",
    "    <td>actual false</td>\n",
    "    <td>tn</td>\n",
    "    <td>fp</td>\n",
    "</tr>\n",
    "<tr>\n",
    "    <td>actual true</td>\n",
    "    <td>fn</td>\n",
    "    <td>tp</td>\n",
    "</tr>\n",
    "<table>"
   ]
  },
  {
   "cell_type": "code",
   "execution_count": 36,
   "metadata": {},
   "outputs": [
    {
     "name": "stdout",
     "output_type": "stream",
     "text": [
      "KNeighborsClassifier score: 1.0000\n",
      "[[2 0]\n",
      " [0 1]]\n",
      "              precision    recall  f1-score   support\n",
      "\n",
      "        high       1.00      1.00      1.00         2\n",
      "         low       1.00      1.00      1.00         1\n",
      "\n",
      "    accuracy                           1.00         3\n",
      "   macro avg       1.00      1.00      1.00         3\n",
      "weighted avg       1.00      1.00      1.00         3\n",
      "\n",
      "----------------------------------------------------------------------------------------------------\n",
      "LogisticRegression   score: 1.0000\n",
      "[[2 0]\n",
      " [0 1]]\n",
      "              precision    recall  f1-score   support\n",
      "\n",
      "        high       1.00      1.00      1.00         2\n",
      "         low       1.00      1.00      1.00         1\n",
      "\n",
      "    accuracy                           1.00         3\n",
      "   macro avg       1.00      1.00      1.00         3\n",
      "weighted avg       1.00      1.00      1.00         3\n",
      "\n",
      "----------------------------------------------------------------------------------------------------\n",
      "Perceptron           score: 1.0000\n",
      "[[2 0]\n",
      " [0 1]]\n",
      "              precision    recall  f1-score   support\n",
      "\n",
      "        high       1.00      1.00      1.00         2\n",
      "         low       1.00      1.00      1.00         1\n",
      "\n",
      "    accuracy                           1.00         3\n",
      "   macro avg       1.00      1.00      1.00         3\n",
      "weighted avg       1.00      1.00      1.00         3\n",
      "\n",
      "----------------------------------------------------------------------------------------------------\n",
      "DecisionTreeClassifier score: 1.0000\n",
      "[[2 0]\n",
      " [0 1]]\n",
      "              precision    recall  f1-score   support\n",
      "\n",
      "        high       1.00      1.00      1.00         2\n",
      "         low       1.00      1.00      1.00         1\n",
      "\n",
      "    accuracy                           1.00         3\n",
      "   macro avg       1.00      1.00      1.00         3\n",
      "weighted avg       1.00      1.00      1.00         3\n",
      "\n",
      "----------------------------------------------------------------------------------------------------\n",
      "GradientBoostingClassifier score: 1.0000\n",
      "[[2 0]\n",
      " [0 1]]\n",
      "              precision    recall  f1-score   support\n",
      "\n",
      "        high       1.00      1.00      1.00         2\n",
      "         low       1.00      1.00      1.00         1\n",
      "\n",
      "    accuracy                           1.00         3\n",
      "   macro avg       1.00      1.00      1.00         3\n",
      "weighted avg       1.00      1.00      1.00         3\n",
      "\n",
      "----------------------------------------------------------------------------------------------------\n",
      "RandomForestClassifier score: 1.0000\n",
      "[[2 0]\n",
      " [0 1]]\n",
      "              precision    recall  f1-score   support\n",
      "\n",
      "        high       1.00      1.00      1.00         2\n",
      "         low       1.00      1.00      1.00         1\n",
      "\n",
      "    accuracy                           1.00         3\n",
      "   macro avg       1.00      1.00      1.00         3\n",
      "weighted avg       1.00      1.00      1.00         3\n",
      "\n",
      "----------------------------------------------------------------------------------------------------\n",
      "BaggingClassifier    score: 1.0000\n",
      "[[2 0]\n",
      " [0 1]]\n",
      "              precision    recall  f1-score   support\n",
      "\n",
      "        high       1.00      1.00      1.00         2\n",
      "         low       1.00      1.00      1.00         1\n",
      "\n",
      "    accuracy                           1.00         3\n",
      "   macro avg       1.00      1.00      1.00         3\n",
      "weighted avg       1.00      1.00      1.00         3\n",
      "\n",
      "----------------------------------------------------------------------------------------------------\n",
      "AdaBoostClassifier   score: 1.0000\n",
      "[[2 0]\n",
      " [0 1]]\n",
      "              precision    recall  f1-score   support\n",
      "\n",
      "        high       1.00      1.00      1.00         2\n",
      "         low       1.00      1.00      1.00         1\n",
      "\n",
      "    accuracy                           1.00         3\n",
      "   macro avg       1.00      1.00      1.00         3\n",
      "weighted avg       1.00      1.00      1.00         3\n",
      "\n",
      "----------------------------------------------------------------------------------------------------\n",
      "GaussianNB           score: 1.0000\n",
      "[[2 0]\n",
      " [0 1]]\n",
      "              precision    recall  f1-score   support\n",
      "\n",
      "        high       1.00      1.00      1.00         2\n",
      "         low       1.00      1.00      1.00         1\n",
      "\n",
      "    accuracy                           1.00         3\n",
      "   macro avg       1.00      1.00      1.00         3\n",
      "weighted avg       1.00      1.00      1.00         3\n",
      "\n",
      "----------------------------------------------------------------------------------------------------\n",
      "MLPClassifier        score: 1.0000\n",
      "[[2 0]\n",
      " [0 1]]\n",
      "              precision    recall  f1-score   support\n",
      "\n",
      "        high       1.00      1.00      1.00         2\n",
      "         low       1.00      1.00      1.00         1\n",
      "\n",
      "    accuracy                           1.00         3\n",
      "   macro avg       1.00      1.00      1.00         3\n",
      "weighted avg       1.00      1.00      1.00         3\n",
      "\n",
      "----------------------------------------------------------------------------------------------------\n",
      "SVC_linear           score: 1.0000\n",
      "[[2 0]\n",
      " [0 1]]\n",
      "              precision    recall  f1-score   support\n",
      "\n",
      "        high       1.00      1.00      1.00         2\n",
      "         low       1.00      1.00      1.00         1\n",
      "\n",
      "    accuracy                           1.00         3\n",
      "   macro avg       1.00      1.00      1.00         3\n",
      "weighted avg       1.00      1.00      1.00         3\n",
      "\n",
      "----------------------------------------------------------------------------------------------------\n",
      "GaussianProcessClassifier score: 1.0000\n",
      "[[2 0]\n",
      " [0 1]]\n",
      "              precision    recall  f1-score   support\n",
      "\n",
      "        high       1.00      1.00      1.00         2\n",
      "         low       1.00      1.00      1.00         1\n",
      "\n",
      "    accuracy                           1.00         3\n",
      "   macro avg       1.00      1.00      1.00         3\n",
      "weighted avg       1.00      1.00      1.00         3\n",
      "\n",
      "----------------------------------------------------------------------------------------------------\n",
      "[[1.0, 'KNeighborsClassifier'], [1.0, 'LogisticRegression'], [1.0, 'Perceptron'], [1.0, 'DecisionTreeClassifier'], [1.0, 'GradientBoostingClassifier'], [1.0, 'RandomForestClassifier'], [1.0, 'BaggingClassifier'], [1.0, 'AdaBoostClassifier'], [1.0, 'GaussianNB'], [1.0, 'MLPClassifier'], [1.0, 'SVC_linear'], [1.0, 'GaussianProcessClassifier']]\n",
      "best score = [1.0, 'SVC_linear']\n"
     ]
    }
   ],
   "source": [
    "## ขั้นตอนนี้จะลองค้นหา important features โดยอาศัย Algorithm อื่น\n",
    "## แล้วทำการคัดเลือก important features จาก split test + confusion matrix\n",
    "algo=[\n",
    "    [KNeighborsClassifier(n_neighbors=3), 'KNeighborsClassifier'], \n",
    "    [LogisticRegression(solver='lbfgs'), 'LogisticRegression'], \n",
    "    [Perceptron(), 'Perceptron'],\n",
    "    [DecisionTreeClassifier(min_samples_split=3), 'DecisionTreeClassifier'],\n",
    "    [GradientBoostingClassifier(), 'GradientBoostingClassifier'],\n",
    "    [RandomForestClassifier(), 'RandomForestClassifier'],\n",
    "    [BaggingClassifier(), 'BaggingClassifier'],\n",
    "    [AdaBoostClassifier(), 'AdaBoostClassifier'],\n",
    "    [GaussianNB(), 'GaussianNB'],\n",
    "    [MLPClassifier(), 'MLPClassifier'],\n",
    "    [SVC(kernel='linear'), 'SVC_linear'], \n",
    "    [GaussianProcessClassifier(), 'GaussianProcessClassifier']\n",
    "]\n",
    "model_scores=[]\n",
    "for a in algo:\n",
    "    model = a[0]\n",
    "    model.fit(X_train, y_train)\n",
    "    score=model.score(X_test, y_test)\n",
    "    model_scores.append([score, a[1]])\n",
    "    y_pred=model.predict(X_test)\n",
    "    print(f'{a[1]:20} score: {score:.04f}')\n",
    "    print(metrics.confusion_matrix(y_test, y_pred))\n",
    "    print(metrics.classification_report(y_test, y_pred))\n",
    "    print('-' * 100)\n",
    "\n",
    "print(model_scores)\n",
    "print(f'best score = {max(model_scores)}')    "
   ]
  },
  {
   "cell_type": "code",
   "execution_count": null,
   "metadata": {},
   "outputs": [],
   "source": []
  }
 ],
 "metadata": {
  "kernelspec": {
   "display_name": "Python 3",
   "language": "python",
   "name": "python3"
  },
  "language_info": {
   "codemirror_mode": {
    "name": "ipython",
    "version": 3
   },
   "file_extension": ".py",
   "mimetype": "text/x-python",
   "name": "python",
   "nbconvert_exporter": "python",
   "pygments_lexer": "ipython3",
   "version": "3.7.6"
  }
 },
 "nbformat": 4,
 "nbformat_minor": 2
}
